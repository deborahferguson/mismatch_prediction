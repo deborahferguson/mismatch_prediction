{
 "cells": [
  {
   "cell_type": "markdown",
   "metadata": {
    "collapsed": false,
    "pycharm": {
     "name": "#%% md\n"
    }
   },
   "source": [
    "# Predict the mismatch between two binary black hole systems using neural network"
   ]
  },
  {
   "cell_type": "code",
   "execution_count": 1,
   "metadata": {
    "collapsed": false,
    "pycharm": {
     "name": "#%%\n"
    }
   },
   "outputs": [],
   "source": [
    "import os\n",
    "os.environ['TF_CPP_MIN_LOG_LEVEL'] = '3'\n",
    "import tensorflow as tf\n",
    "tf.get_logger().setLevel('ERROR')\n",
    "import numpy as np"
   ]
  },
  {
   "cell_type": "markdown",
   "metadata": {
    "collapsed": false,
    "pycharm": {
     "name": "#%% md\n"
    }
   },
   "source": [
    "## Load the network"
   ]
  },
  {
   "cell_type": "code",
   "execution_count": 2,
   "metadata": {
    "collapsed": false,
    "pycharm": {
     "name": "#%%\n"
    }
   },
   "outputs": [],
   "source": [
    "model = tf.keras.models.load_model('mismatch_network', compile=False)"
   ]
  },
  {
   "cell_type": "markdown",
   "metadata": {
    "collapsed": false
   },
   "source": [
    "## Construct the feature array\n",
    "Each row of the array will consist of the input values for one mismatch prediction ($\\lambda_1$ and $\\lambda_2$), where \n",
    "\n",
    "$\\lambda = \\eta,\\, \\bm{a_1}, \\, \\bm{a_2}$ \n",
    "\n",
    "Since $\\bm{a_1}$ and $\\bm{a_2}$ are each 3-dimensional vectors, this means each row has 14 values.\n",
    "The feature array then should have dimensions (N, 14) where N is the number of mismatches you want to predict."
   ]
  },
  {
   "cell_type": "code",
   "execution_count": 12,
   "metadata": {
    "collapsed": false,
    "pycharm": {
     "name": "#%%\n"
    }
   },
   "outputs": [
    {
     "name": "stdout",
     "output_type": "stream",
     "text": [
      "(3, 14)\n"
     ]
    }
   ],
   "source": [
    "# equal mass, nonspinning vs q=3 (eta=0.1875), nonspinning\n",
    "lambda_1 = [0.25, 0, 0, 0, 0, 0, 0]\n",
    "lambda_2 = [0.1875, 0, 0, 0, 0, 0, 0]\n",
    "features_row_1 = lambda_1 + lambda_2\n",
    "\n",
    "# equal mass, nonspinning vs equal mass, spinning\n",
    "lambda_1 = [0.25, 0, 0, 0, 0, 0, 0]\n",
    "lambda_2 = [0.25, 0, 0, 0.6, 0, 0, 0.6]\n",
    "features_row_2 = lambda_1 + lambda_2\n",
    "\n",
    "# q=3 (eta=0.1875), nonspinning vs to q=3 (eta=0.1875), spinning\n",
    "lambda_1 = [0.1875, 0, 0, 0, 0, 0, 0]\n",
    "lambda_2 = [0.1875, 0, 0, 0.6, 0, 0, 0.6]\n",
    "features_row_3 = lambda_1 + lambda_2\n",
    "\n",
    "features = np.array([features_row_1,\n",
    "    features_row_2,\n",
    "    features_row_3])\n",
    "\n",
    "print(features.shape)"
   ]
  },
  {
   "cell_type": "markdown",
   "metadata": {
    "collapsed": false,
    "pycharm": {
     "name": "#%% md\n"
    }
   },
   "source": [
    "## Run features through network to predict the mismatch"
   ]
  },
  {
   "cell_type": "code",
   "execution_count": 9,
   "metadata": {
    "collapsed": false,
    "pycharm": {
     "name": "#%%\n"
    }
   },
   "outputs": [
    {
     "name": "stdout",
     "output_type": "stream",
     "text": [
      "1/1 [==============================] - 0s 24ms/step\n"
     ]
    }
   ],
   "source": [
    "mismatch_prediction = model.predict(features).flatten()"
   ]
  },
  {
   "cell_type": "code",
   "execution_count": 11,
   "metadata": {
    "collapsed": false,
    "pycharm": {
     "name": "#%%\n"
    }
   },
   "outputs": [
    {
     "name": "stdout",
     "output_type": "stream",
     "text": [
      "predicted mismatches: [0.32828718 0.4511565  0.487169  ]\n"
     ]
    }
   ],
   "source": [
    "print(f\"predicted mismatches: {mismatch_prediction}\")"
   ]
  },
  {
   "cell_type": "code",
   "execution_count": null,
   "metadata": {
    "collapsed": false,
    "pycharm": {
     "name": "#%%\n"
    }
   },
   "outputs": [],
   "source": []
  }
 ],
 "metadata": {
  "kernelspec": {
   "display_name": "Python 3.8.13 ('mismatch_prediction')",
   "language": "python",
   "name": "python3"
  },
  "language_info": {
   "codemirror_mode": {
    "name": "ipython",
    "version": 3
   },
   "file_extension": ".py",
   "mimetype": "text/x-python",
   "name": "python",
   "nbconvert_exporter": "python",
   "pygments_lexer": "ipython3",
   "version": "3.8.13"
  },
  "vscode": {
   "interpreter": {
    "hash": "21239b6335a3fc206228ee412049e96d287d48ae6073dfb6b127c6ff972b4405"
   }
  }
 },
 "nbformat": 4,
 "nbformat_minor": 0
}
